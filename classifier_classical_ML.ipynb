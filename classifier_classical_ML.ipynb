{
 "cells": [
  {
   "cell_type": "code",
   "execution_count": 1,
   "id": "1e19c62c",
   "metadata": {},
   "outputs": [],
   "source": [
    "import argparse\n",
    "import cv2\n",
    "import numpy as np\n",
    "import os\n",
    "from imantics import Mask\n",
    "from matplotlib import pyplot as plt\n",
    "from tqdm.notebook import tqdm"
   ]
  },
  {
   "cell_type": "markdown",
   "id": "83fdad05",
   "metadata": {},
   "source": [
    "# 读取数据"
   ]
  },
  {
   "cell_type": "code",
   "execution_count": 27,
   "id": "f0012563",
   "metadata": {},
   "outputs": [
    {
     "data": {
      "application/vnd.jupyter.widget-view+json": {
       "model_id": "e17e27b4806d4a36ae4e4c04974e8c8f",
       "version_major": 2,
       "version_minor": 0
      },
      "text/plain": [
       "  0%|          | 0/15000 [00:00<?, ?it/s]"
      ]
     },
     "metadata": {},
     "output_type": "display_data"
    }
   ],
   "source": [
    "x_list = []\n",
    "y_list = []\n",
    "for pic in tqdm(os.listdir('obj_aug')):\n",
    "    pic_path = './obj_aug/' + pic\n",
    "    # 读取RGB三通道图像(640, 640, 3)\n",
    "#     pic_data = cv2.imread(pic_path, cv2.IMREAD_COLOR)\n",
    "    # 读取灰度单通道图像(640, 640)\n",
    "    pic_data = cv2.imread(pic_path, cv2.IMREAD_GRAYSCALE)\n",
    "    # 下采样(160, 160, 3)\n",
    "    pic_data = cv2.resize(pic_data, (160, 160))\n",
    "    x_list.append(pic_data)\n",
    "    y_list.append(int(pic[:2]))\n",
    "x_list = np.array(x_list)  # (15000, 160, 160, 3)\n",
    "y_list = np.array(y_list)"
   ]
  },
  {
   "cell_type": "code",
   "execution_count": 28,
   "id": "ebdcad7f",
   "metadata": {},
   "outputs": [],
   "source": [
    "from sklearn.model_selection import StratifiedShuffleSplit\n",
    "\n",
    "# 假设标签数据保存在label_list中，其中每个标签是一个整数\n",
    "X = x_list\n",
    "y = y_list\n",
    "\n",
    "# 分层抽样，其中train_size和test_size分别表示训练集和测试集的比例\n",
    "# n_splits表示抽取的次数，random_state表示随机数种子\n",
    "split = StratifiedShuffleSplit(n_splits=1, train_size=0.8, test_size=0.2, random_state=42)\n",
    "train_index, test_index = next(split.split(X, y))\n",
    "\n",
    "# 得到训练集和测试集\n",
    "X_train, X_test = [X[i] for i in train_index], [X[i] for i in test_index]\n",
    "y_train, y_test = [y[i] for i in train_index], [y[i] for i in test_index]\n",
    "\n",
    "# 加载数据集\n",
    "train_data = np.array(X_train)\n",
    "train_labels = np.array(y_train)\n",
    "test_data = np.array(X_test)\n",
    "test_labels = np.array(y_test)\n",
    "\n",
    "# 将图片矩阵转换为向量\n",
    "train_data = train_data.reshape(train_data.shape[0], -1)\n",
    "test_data = test_data.reshape(test_data.shape[0], -1)"
   ]
  },
  {
   "cell_type": "code",
   "execution_count": 32,
   "id": "4807ffe5",
   "metadata": {},
   "outputs": [
    {
     "data": {
      "text/plain": [
       "(12000, 25600)"
      ]
     },
     "execution_count": 32,
     "metadata": {},
     "output_type": "execute_result"
    }
   ],
   "source": [
    "train_data.shape"
   ]
  },
  {
   "cell_type": "markdown",
   "id": "ff96fb06",
   "metadata": {},
   "source": [
    "# 特征提取方法\n",
    "## 增量PCA"
   ]
  },
  {
   "cell_type": "code",
   "execution_count": 33,
   "id": "4a53b22b",
   "metadata": {},
   "outputs": [
    {
     "data": {
      "application/vnd.jupyter.widget-view+json": {
       "model_id": "490e5305138f41f1afb6b1d42eb4d6ca",
       "version_major": 2,
       "version_minor": 0
      },
      "text/plain": [
       "  0%|          | 0/10 [00:00<?, ?it/s]"
      ]
     },
     "metadata": {},
     "output_type": "display_data"
    }
   ],
   "source": [
    "from sklearn.decomposition import IncrementalPCA\n",
    "\n",
    "n_batches = 10\n",
    "inc_pca = IncrementalPCA(n_components=20)\n",
    "\n",
    "for X_batch in tqdm(np.array_split(train_data, n_batches)):\n",
    "    inc_pca.partial_fit(X_batch)"
   ]
  },
  {
   "cell_type": "code",
   "execution_count": 34,
   "id": "7f290870",
   "metadata": {},
   "outputs": [],
   "source": [
    "train_data_inc_pca = inc_pca.transform(train_data)\n",
    "test_data_inc_pca = inc_pca.transform(test_data)"
   ]
  },
  {
   "cell_type": "markdown",
   "id": "e230fad6",
   "metadata": {},
   "source": [
    "## 随机PCA"
   ]
  },
  {
   "cell_type": "code",
   "execution_count": 36,
   "id": "8b73f86e",
   "metadata": {
    "scrolled": true
   },
   "outputs": [],
   "source": [
    "from sklearn.decomposition import PCA\n",
    "\n",
    "pca = PCA(n_components=20, svd_solver='randomized')\n",
    "pca.fit(train_data)\n",
    "train_data_inc_pca = pca.transform(train_data)\n",
    "test_data_inc_pca = pca.transform(test_data)"
   ]
  },
  {
   "cell_type": "markdown",
   "id": "afc7bab9",
   "metadata": {},
   "source": [
    "## t-SNE"
   ]
  },
  {
   "cell_type": "code",
   "execution_count": 39,
   "id": "cf9c416b",
   "metadata": {},
   "outputs": [],
   "source": [
    "from sklearn.manifold import TSNE\n",
    "\n",
    "tsne = TSNE(n_components=3, learning_rate='auto', init='random', perplexity=3)\n",
    "train_data_inc_pca = tsne.fit_transform(train_data)\n",
    "test_data_inc_pca = tsne.fit_transform(test_data)"
   ]
  },
  {
   "cell_type": "markdown",
   "id": "78a9b935",
   "metadata": {},
   "source": [
    "## FactorAnalysis"
   ]
  },
  {
   "cell_type": "code",
   "execution_count": 43,
   "id": "3201cd5f",
   "metadata": {},
   "outputs": [],
   "source": [
    "from sklearn.decomposition import FactorAnalysis\n",
    "\n",
    "fa = FactorAnalysis(n_components=20)\n",
    "fa.fit(train_data)\n",
    "train_data_inc_pca = fa.transform(train_data)\n",
    "test_data_inc_pca = fa.transform(test_data)"
   ]
  },
  {
   "cell_type": "markdown",
   "id": "71377daa",
   "metadata": {},
   "source": [
    "## MiniBatchSparsePCA"
   ]
  },
  {
   "cell_type": "code",
   "execution_count": 41,
   "id": "897a3d88",
   "metadata": {},
   "outputs": [],
   "source": [
    "from sklearn.decomposition import MiniBatchSparsePCA\n",
    "\n",
    "pca = MiniBatchSparsePCA(n_components=20)\n",
    "pca.fit(train_data)\n",
    "train_data_inc_pca = pca.transform(train_data)\n",
    "test_data_inc_pca = pca.transform(test_data)"
   ]
  },
  {
   "cell_type": "markdown",
   "id": "178f9019",
   "metadata": {},
   "source": [
    "# 分类器"
   ]
  },
  {
   "cell_type": "code",
   "execution_count": 5,
   "id": "37b47f3a",
   "metadata": {},
   "outputs": [
    {
     "name": "stderr",
     "output_type": "stream",
     "text": [
      "C:\\Users\\hs-wang17\\anaconda3\\lib\\site-packages\\sklearn\\linear_model\\_logistic.py:814: ConvergenceWarning: lbfgs failed to converge (status=1):\n",
      "STOP: TOTAL NO. of ITERATIONS REACHED LIMIT.\n",
      "\n",
      "Increase the number of iterations (max_iter) or scale the data as shown in:\n",
      "    https://scikit-learn.org/stable/modules/preprocessing.html\n",
      "Please also refer to the documentation for alternative solver options:\n",
      "    https://scikit-learn.org/stable/modules/linear_model.html#logistic-regression\n",
      "  n_iter_i = _check_optimize_result(\n"
     ]
    },
    {
     "data": {
      "text/plain": [
       "0.18833333333333332"
      ]
     },
     "execution_count": 5,
     "metadata": {},
     "output_type": "execute_result"
    }
   ],
   "source": [
    "from sklearn.linear_model import LogisticRegression\n",
    "\n",
    "clf = LogisticRegression(random_state=0)\n",
    "clf.fit(train_data_inc_pca, train_labels)\n",
    "clf.score(test_data_inc_pca, test_labels)"
   ]
  },
  {
   "cell_type": "code",
   "execution_count": 6,
   "id": "6510a0b0",
   "metadata": {},
   "outputs": [
    {
     "data": {
      "text/plain": [
       "0.07533333333333334"
      ]
     },
     "execution_count": 6,
     "metadata": {},
     "output_type": "execute_result"
    }
   ],
   "source": [
    "from sklearn.linear_model import PassiveAggressiveClassifier\n",
    "\n",
    "clf = PassiveAggressiveClassifier(random_state=0)\n",
    "clf.fit(train_data_inc_pca, train_labels)\n",
    "clf.score(test_data_inc_pca, test_labels)"
   ]
  },
  {
   "cell_type": "code",
   "execution_count": 7,
   "id": "78121d31",
   "metadata": {},
   "outputs": [
    {
     "data": {
      "text/plain": [
       "0.06566666666666666"
      ]
     },
     "execution_count": 7,
     "metadata": {},
     "output_type": "execute_result"
    }
   ],
   "source": [
    "from sklearn.linear_model import Perceptron\n",
    "\n",
    "clf = Perceptron(random_state=0)\n",
    "clf.fit(train_data_inc_pca, train_labels)\n",
    "clf.score(test_data_inc_pca, test_labels)"
   ]
  },
  {
   "cell_type": "code",
   "execution_count": 8,
   "id": "6900b823",
   "metadata": {},
   "outputs": [
    {
     "data": {
      "text/plain": [
       "0.15766666666666668"
      ]
     },
     "execution_count": 8,
     "metadata": {},
     "output_type": "execute_result"
    }
   ],
   "source": [
    "from sklearn.linear_model import RidgeClassifier\n",
    "\n",
    "clf = RidgeClassifier(random_state=0)\n",
    "clf.fit(train_data_inc_pca, train_labels)\n",
    "clf.score(test_data_inc_pca, test_labels)"
   ]
  },
  {
   "cell_type": "code",
   "execution_count": 9,
   "id": "7c3a4d6f",
   "metadata": {},
   "outputs": [
    {
     "data": {
      "text/plain": [
       "0.053"
      ]
     },
     "execution_count": 9,
     "metadata": {},
     "output_type": "execute_result"
    }
   ],
   "source": [
    "from sklearn.linear_model import SGDClassifier\n",
    "\n",
    "clf = SGDClassifier(random_state=0)\n",
    "clf.fit(train_data_inc_pca, train_labels)\n",
    "clf.score(test_data_inc_pca, test_labels)"
   ]
  },
  {
   "cell_type": "code",
   "execution_count": 10,
   "id": "e2a7da5f",
   "metadata": {},
   "outputs": [
    {
     "data": {
      "text/plain": [
       "0.06666666666666667"
      ]
     },
     "execution_count": 10,
     "metadata": {},
     "output_type": "execute_result"
    }
   ],
   "source": [
    "from sklearn.dummy import DummyClassifier\n",
    "\n",
    "clf = DummyClassifier(random_state=0)\n",
    "clf.fit(train_data_inc_pca, train_labels)\n",
    "clf.score(test_data_inc_pca, test_labels)"
   ]
  },
  {
   "cell_type": "code",
   "execution_count": 11,
   "id": "70e88092",
   "metadata": {},
   "outputs": [
    {
     "data": {
      "text/plain": [
       "0.13066666666666665"
      ]
     },
     "execution_count": 11,
     "metadata": {},
     "output_type": "execute_result"
    }
   ],
   "source": [
    "from sklearn.ensemble import AdaBoostClassifier\n",
    "\n",
    "clf = AdaBoostClassifier(random_state=0)\n",
    "clf.fit(train_data_inc_pca, train_labels)\n",
    "clf.score(test_data_inc_pca, test_labels)"
   ]
  },
  {
   "cell_type": "code",
   "execution_count": 44,
   "id": "e67af4f8",
   "metadata": {},
   "outputs": [
    {
     "data": {
      "text/plain": [
       "0.41633333333333333"
      ]
     },
     "execution_count": 44,
     "metadata": {},
     "output_type": "execute_result"
    }
   ],
   "source": [
    "from sklearn.ensemble import BaggingClassifier\n",
    "\n",
    "clf = BaggingClassifier(random_state=0)\n",
    "clf.fit(train_data_inc_pca, train_labels)\n",
    "clf.score(test_data_inc_pca, test_labels)"
   ]
  },
  {
   "cell_type": "code",
   "execution_count": 13,
   "id": "2143d38a",
   "metadata": {},
   "outputs": [
    {
     "data": {
      "text/plain": [
       "0.344"
      ]
     },
     "execution_count": 13,
     "metadata": {},
     "output_type": "execute_result"
    }
   ],
   "source": [
    "from sklearn.ensemble import ExtraTreesClassifier\n",
    "\n",
    "clf = ExtraTreesClassifier(random_state=0)\n",
    "clf.fit(train_data_inc_pca, train_labels)\n",
    "clf.score(test_data_inc_pca, test_labels)"
   ]
  },
  {
   "cell_type": "code",
   "execution_count": 14,
   "id": "ac8b1e9e",
   "metadata": {},
   "outputs": [
    {
     "data": {
      "text/plain": [
       "0.317"
      ]
     },
     "execution_count": 14,
     "metadata": {},
     "output_type": "execute_result"
    }
   ],
   "source": [
    "from sklearn.ensemble import RandomForestClassifier\n",
    "\n",
    "clf = RandomForestClassifier(random_state=0)\n",
    "clf.fit(train_data_inc_pca, train_labels)\n",
    "clf.score(test_data_inc_pca, test_labels)"
   ]
  },
  {
   "cell_type": "code",
   "execution_count": 15,
   "id": "60db7307",
   "metadata": {},
   "outputs": [
    {
     "data": {
      "text/plain": [
       "0.23633333333333334"
      ]
     },
     "execution_count": 15,
     "metadata": {},
     "output_type": "execute_result"
    }
   ],
   "source": [
    "from sklearn.neighbors import KNeighborsClassifier\n",
    "\n",
    "clf = KNeighborsClassifier()\n",
    "clf.fit(train_data_inc_pca, train_labels)\n",
    "clf.score(test_data_inc_pca, test_labels)"
   ]
  },
  {
   "cell_type": "code",
   "execution_count": 16,
   "id": "1c82cac3",
   "metadata": {},
   "outputs": [
    {
     "name": "stderr",
     "output_type": "stream",
     "text": [
      "C:\\Users\\hs-wang17\\anaconda3\\lib\\site-packages\\sklearn\\neural_network\\_multilayer_perceptron.py:692: ConvergenceWarning: Stochastic Optimizer: Maximum iterations (200) reached and the optimization hasn't converged yet.\n",
      "  warnings.warn(\n"
     ]
    },
    {
     "data": {
      "text/plain": [
       "0.41833333333333333"
      ]
     },
     "execution_count": 16,
     "metadata": {},
     "output_type": "execute_result"
    }
   ],
   "source": [
    "from sklearn.neural_network import MLPClassifier\n",
    "\n",
    "clf = MLPClassifier(random_state=0)\n",
    "clf.fit(train_data_inc_pca, train_labels)\n",
    "clf.score(test_data_inc_pca, test_labels)"
   ]
  },
  {
   "cell_type": "code",
   "execution_count": 17,
   "id": "4e8de5af",
   "metadata": {},
   "outputs": [
    {
     "data": {
      "text/plain": [
       "0.17"
      ]
     },
     "execution_count": 17,
     "metadata": {},
     "output_type": "execute_result"
    }
   ],
   "source": [
    "from sklearn.tree import DecisionTreeClassifier\n",
    "\n",
    "clf = DecisionTreeClassifier(random_state=0)\n",
    "clf.fit(train_data_inc_pca, train_labels)\n",
    "clf.score(test_data_inc_pca, test_labels)"
   ]
  },
  {
   "cell_type": "code",
   "execution_count": null,
   "id": "66959e9c",
   "metadata": {},
   "outputs": [],
   "source": []
  }
 ],
 "metadata": {
  "kernelspec": {
   "display_name": "Python 3 (ipykernel)",
   "language": "python",
   "name": "python3"
  },
  "language_info": {
   "codemirror_mode": {
    "name": "ipython",
    "version": 3
   },
   "file_extension": ".py",
   "mimetype": "text/x-python",
   "name": "python",
   "nbconvert_exporter": "python",
   "pygments_lexer": "ipython3",
   "version": "3.9.12"
  },
  "toc": {
   "base_numbering": 1,
   "nav_menu": {},
   "number_sections": true,
   "sideBar": true,
   "skip_h1_title": false,
   "title_cell": "Table of Contents",
   "title_sidebar": "Contents",
   "toc_cell": false,
   "toc_position": {},
   "toc_section_display": true,
   "toc_window_display": false
  }
 },
 "nbformat": 4,
 "nbformat_minor": 5
}
