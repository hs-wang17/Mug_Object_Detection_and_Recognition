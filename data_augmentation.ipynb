{
 "cells": [
  {
   "cell_type": "code",
   "execution_count": 12,
   "id": "08aed261",
   "metadata": {},
   "outputs": [],
   "source": [
    "import os\n",
    "from tqdm.notebook import tqdm\n",
    "from PIL import Image"
   ]
  },
  {
   "cell_type": "code",
   "execution_count": 13,
   "id": "06902f46",
   "metadata": {},
   "outputs": [],
   "source": [
    "# 原始图像文件夹路径和保存增广后图像文件夹路径\n",
    "img_input_dir = \"./obj/\"\n",
    "img_output_dir = \"./obj-aug/\"\n",
    "\n",
    "# 定义需要进行的数据增广操作\n",
    "transform = transforms.Compose([\n",
    "    transforms.RandomHorizontalFlip(p=0.5),\n",
    "    transforms.RandomVerticalFlip(p=0.5),\n",
    "    transforms.RandomRotation(degrees=90),\n",
    "    transforms.ColorJitter(brightness=0.2, contrast=0.2, saturation=0.2, hue=0.1),\n",
    "    transforms.RandomResizedCrop(size=640, scale=(0.8, 1.2), ratio=(0.9, 1.1)),\n",
    "    transforms.ToTensor()\n",
    "])"
   ]
  },
  {
   "cell_type": "code",
   "execution_count": 35,
   "id": "05767489",
   "metadata": {},
   "outputs": [
    {
     "data": {
      "application/vnd.jupyter.widget-view+json": {
       "model_id": "c633aabd166b4c1c9ea1ab1a6b89dae3",
       "version_major": 2,
       "version_minor": 0
      },
      "text/plain": [
       "  0%|          | 0/150 [00:00<?, ?it/s]"
      ]
     },
     "metadata": {},
     "output_type": "display_data"
    }
   ],
   "source": [
    "l = 0\n",
    "# 遍历原始图像和标签图片文件夹中的所有图片，并进行数据增广\n",
    "for img_filename in tqdm(os.listdir(img_input_dir)):\n",
    "    i = int(img_filename[4:6])\n",
    "    if l != i:\n",
    "        k = 0\n",
    "    img_path = os.path.join(img_input_dir, img_filename)\n",
    "    img = Image.open(img_path)\n",
    "\n",
    "    # 对每张图像和标签进行100次增广操作，并保存到输出文件夹中\n",
    "    for j in range(100):\n",
    "        transformed_img = transform(img)\n",
    "        new_filename = f\"{str(i).zfill(2)}_{j + k}.jpg\"\n",
    "        new_img_filepath = os.path.join(img_output_dir, new_filename)\n",
    "        transformed_img = transforms.functional.to_pil_image(transformed_img)\n",
    "        transformed_img.save(new_img_filepath)\n",
    "    k += 100\n",
    "    l = np.copy(i)"
   ]
  },
  {
   "cell_type": "code",
   "execution_count": null,
   "id": "8e8f37fb",
   "metadata": {},
   "outputs": [],
   "source": []
  }
 ],
 "metadata": {
  "kernelspec": {
   "display_name": "Python 3 (ipykernel)",
   "language": "python",
   "name": "python3"
  },
  "language_info": {
   "codemirror_mode": {
    "name": "ipython",
    "version": 3
   },
   "file_extension": ".py",
   "mimetype": "text/x-python",
   "name": "python",
   "nbconvert_exporter": "python",
   "pygments_lexer": "ipython3",
   "version": "3.9.12"
  },
  "toc": {
   "base_numbering": 1,
   "nav_menu": {},
   "number_sections": true,
   "sideBar": true,
   "skip_h1_title": false,
   "title_cell": "Table of Contents",
   "title_sidebar": "Contents",
   "toc_cell": false,
   "toc_position": {},
   "toc_section_display": true,
   "toc_window_display": false
  }
 },
 "nbformat": 4,
 "nbformat_minor": 5
}
