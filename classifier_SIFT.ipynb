{
 "cells": [
  {
   "cell_type": "code",
   "execution_count": 1,
   "id": "1e19c62c",
   "metadata": {},
   "outputs": [],
   "source": [
    "import argparse\n",
    "import cv2\n",
    "import numpy as np\n",
    "import os\n",
    "from imantics import Mask\n",
    "from matplotlib import pyplot as plt\n",
    "from tqdm.notebook import tqdm"
   ]
  },
  {
   "cell_type": "markdown",
   "id": "83fdad05",
   "metadata": {},
   "source": [
    "# 读取数据"
   ]
  },
  {
   "cell_type": "code",
   "execution_count": 123,
   "id": "f0012563",
   "metadata": {},
   "outputs": [
    {
     "data": {
      "application/vnd.jupyter.widget-view+json": {
       "model_id": "ba2f904e15724e17a94339f371a2c536",
       "version_major": 2,
       "version_minor": 0
      },
      "text/plain": [
       "  0%|          | 0/1 [00:00<?, ?it/s]"
      ]
     },
     "metadata": {},
     "output_type": "display_data"
    }
   ],
   "source": [
    "x_list = []\n",
    "y_list = []\n",
    "sift = cv2.SIFT_create()\n",
    "null_gray = np.zeros((640, 640), np.uint8)\n",
    "null_img = np.zeros((640, 640), np.uint8)\n",
    "for pic in tqdm(os.listdir('obj_aug')[:1]):\n",
    "    pic_path = './obj_aug/' + pic\n",
    "    img = cv2.imread(pic_path)\n",
    "    gray = cv2.cvtColor(img, cv2.IMREAD_GRAYSCALE)\n",
    "    # 得到SIFT特征点\n",
    "    kp = sift.detect(gray, None)\n",
    "#     img = cv2.drawKeypoints(gray, kp, img)\n",
    "    img = cv2.drawKeypoints(null_gray, kp, null_img)\n",
    "    img = cv2.cvtColor(img, cv2.COLOR_BGR2GRAY)\n",
    "    pic_data = cv2.resize(img, (160, 160))\n",
    "    x_list.append(pic_data)\n",
    "    y_list.append(int(pic[:2]))\n",
    "x_list = np.array(x_list)  # (15000, 160, 160, 3)\n",
    "y_list = np.array(y_list)"
   ]
  },
  {
   "cell_type": "code",
   "execution_count": 124,
   "id": "4298ffc4",
   "metadata": {},
   "outputs": [
    {
     "data": {
      "image/png": "[encoded data removed]",
      "text/plain": [
       "<Figure size 432x288 with 1 Axes>"
      ]
     },
     "metadata": {
      "needs_background": "light"
     },
     "output_type": "display_data"
    }
   ],
   "source": [
    "plt.imshow(img)\n",
    "plt.savefig('kp.pdf')"
   ]
  },
  {
   "cell_type": "code",
   "execution_count": 33,
   "id": "ebdcad7f",
   "metadata": {},
   "outputs": [],
   "source": [
    "from sklearn.model_selection import StratifiedShuffleSplit\n",
    "\n",
    "# 假设标签数据保存在label_list中，其中每个标签是一个整数\n",
    "X = x_list\n",
    "y = y_list\n",
    "\n",
    "# 分层抽样，其中train_size和test_size分别表示训练集和测试集的比例\n",
    "# n_splits表示抽取的次数，random_state表示随机数种子\n",
    "split = StratifiedShuffleSplit(n_splits=1, train_size=0.8, test_size=0.2, random_state=42)\n",
    "train_index, test_index = next(split.split(X, y))\n",
    "\n",
    "# 得到训练集和测试集\n",
    "X_train, X_test = [X[i] for i in train_index], [X[i] for i in test_index]\n",
    "y_train, y_test = [y[i] for i in train_index], [y[i] for i in test_index]\n",
    "\n",
    "# 加载数据集\n",
    "train_data = np.array(X_train)\n",
    "train_labels = np.array(y_train)\n",
    "test_data = np.array(X_test)\n",
    "test_labels = np.array(y_test)\n",
    "\n",
    "# 将图片矩阵转换为向量\n",
    "train_data = train_data.reshape(train_data.shape[0], -1)\n",
    "test_data = test_data.reshape(test_data.shape[0], -1)"
   ]
  },
  {
   "cell_type": "code",
   "execution_count": 35,
   "id": "1bc7b84d",
   "metadata": {},
   "outputs": [
    {
     "data": {
      "text/plain": [
       "(12000, 25600)"
      ]
     },
     "execution_count": 35,
     "metadata": {},
     "output_type": "execute_result"
    }
   ],
   "source": [
    "train_data.shape"
   ]
  },
  {
   "cell_type": "markdown",
   "id": "ff96fb06",
   "metadata": {},
   "source": [
    "# 特征提取方法\n",
    "## 增量PCA"
   ]
  },
  {
   "cell_type": "code",
   "execution_count": 94,
   "id": "61d45aab",
   "metadata": {},
   "outputs": [
    {
     "data": {
      "application/vnd.jupyter.widget-view+json": {
       "model_id": "dc7386f41e2b4011aee0f64f6c1405f5",
       "version_major": 2,
       "version_minor": 0
      },
      "text/plain": [
       "  0%|          | 0/10 [00:00<?, ?it/s]"
      ]
     },
     "metadata": {},
     "output_type": "display_data"
    }
   ],
   "source": [
    "from sklearn.decomposition import IncrementalPCA\n",
    "\n",
    "n_batches = 10\n",
    "inc_pca = IncrementalPCA(n_components=20)\n",
    "\n",
    "for X_batch in tqdm(np.array_split(train_data, n_batches)):\n",
    "    inc_pca.partial_fit(X_batch)"
   ]
  },
  {
   "cell_type": "code",
   "execution_count": 95,
   "id": "dd165a2b",
   "metadata": {},
   "outputs": [],
   "source": [
    "train_data_inc_pca = inc_pca.transform(train_data)\n",
    "test_data_inc_pca = inc_pca.transform(test_data)"
   ]
  },
  {
   "cell_type": "markdown",
   "id": "b4992f74",
   "metadata": {},
   "source": [
    "## 随机PCA"
   ]
  },
  {
   "cell_type": "code",
   "execution_count": 97,
   "id": "7395e57e",
   "metadata": {
    "scrolled": true
   },
   "outputs": [],
   "source": [
    "from sklearn.decomposition import PCA\n",
    "\n",
    "pca = PCA(n_components=20, svd_solver='randomized')\n",
    "pca.fit(train_data)\n",
    "train_data_inc_pca = pca.transform(train_data)\n",
    "test_data_inc_pca = pca.transform(test_data)"
   ]
  },
  {
   "cell_type": "markdown",
   "id": "9ca2653c",
   "metadata": {},
   "source": [
    "## t-SNE"
   ]
  },
  {
   "cell_type": "code",
   "execution_count": 101,
   "id": "606f9a6d",
   "metadata": {},
   "outputs": [],
   "source": [
    "from sklearn.manifold import TSNE\n",
    "\n",
    "tsne = TSNE(n_components=3, learning_rate='auto', init='random', perplexity=3)\n",
    "train_data_inc_pca = tsne.fit_transform(train_data)\n",
    "test_data_inc_pca = tsne.fit_transform(test_data)"
   ]
  },
  {
   "cell_type": "markdown",
   "id": "d050e6c8",
   "metadata": {},
   "source": [
    "## FactorAnalysis"
   ]
  },
  {
   "cell_type": "code",
   "execution_count": 79,
   "id": "a7ae2630",
   "metadata": {},
   "outputs": [],
   "source": [
    "from sklearn.decomposition import FactorAnalysis\n",
    "\n",
    "fa = FactorAnalysis(n_components=20)\n",
    "fa.fit(train_data)\n",
    "train_data_inc_pca = fa.transform(train_data)\n",
    "test_data_inc_pca = fa.transform(test_data)"
   ]
  },
  {
   "cell_type": "markdown",
   "id": "b5995444",
   "metadata": {},
   "source": [
    "## MiniBatchSparsePCA"
   ]
  },
  {
   "cell_type": "code",
   "execution_count": 99,
   "id": "9002bedf",
   "metadata": {},
   "outputs": [],
   "source": [
    "from sklearn.decomposition import MiniBatchSparsePCA\n",
    "\n",
    "pca = MiniBatchSparsePCA(n_components=20)\n",
    "pca.fit(train_data)\n",
    "train_data_inc_pca = pca.transform(train_data)\n",
    "test_data_inc_pca = pca.transform(test_data)"
   ]
  },
  {
   "cell_type": "markdown",
   "id": "9bf69b61",
   "metadata": {},
   "source": [
    "# 分类器"
   ]
  },
  {
   "cell_type": "code",
   "execution_count": 102,
   "id": "37b47f3a",
   "metadata": {
    "scrolled": true
   },
   "outputs": [
    {
     "data": {
      "text/plain": [
       "0.078"
      ]
     },
     "execution_count": 102,
     "metadata": {},
     "output_type": "execute_result"
    }
   ],
   "source": [
    "from sklearn.linear_model import LogisticRegression\n",
    "\n",
    "clf = LogisticRegression(random_state=0)\n",
    "clf.fit(train_data_inc_pca, train_labels)\n",
    "clf.score(test_data_inc_pca, test_labels)"
   ]
  },
  {
   "cell_type": "code",
   "execution_count": 103,
   "id": "32ad8165",
   "metadata": {},
   "outputs": [
    {
     "data": {
      "text/plain": [
       "0.06233333333333333"
      ]
     },
     "execution_count": 103,
     "metadata": {},
     "output_type": "execute_result"
    }
   ],
   "source": [
    "from sklearn.linear_model import PassiveAggressiveClassifier\n",
    "\n",
    "clf = PassiveAggressiveClassifier(random_state=0)\n",
    "clf.fit(train_data_inc_pca, train_labels)\n",
    "clf.score(test_data_inc_pca, test_labels)"
   ]
  },
  {
   "cell_type": "code",
   "execution_count": 104,
   "id": "f3e0de69",
   "metadata": {},
   "outputs": [
    {
     "data": {
      "text/plain": [
       "0.044333333333333336"
      ]
     },
     "execution_count": 104,
     "metadata": {},
     "output_type": "execute_result"
    }
   ],
   "source": [
    "from sklearn.linear_model import Perceptron\n",
    "\n",
    "clf = Perceptron(random_state=0)\n",
    "clf.fit(train_data_inc_pca, train_labels)\n",
    "clf.score(test_data_inc_pca, test_labels)"
   ]
  },
  {
   "cell_type": "code",
   "execution_count": 105,
   "id": "78fac1fb",
   "metadata": {},
   "outputs": [
    {
     "data": {
      "text/plain": [
       "0.08"
      ]
     },
     "execution_count": 105,
     "metadata": {},
     "output_type": "execute_result"
    }
   ],
   "source": [
    "from sklearn.linear_model import RidgeClassifier\n",
    "\n",
    "clf = RidgeClassifier(random_state=0)\n",
    "clf.fit(train_data_inc_pca, train_labels)\n",
    "clf.score(test_data_inc_pca, test_labels)"
   ]
  },
  {
   "cell_type": "code",
   "execution_count": 106,
   "id": "46270c54",
   "metadata": {},
   "outputs": [
    {
     "name": "stderr",
     "output_type": "stream",
     "text": [
      "C:\\Users\\hs-wang17\\anaconda3\\lib\\site-packages\\sklearn\\linear_model\\_stochastic_gradient.py:696: ConvergenceWarning: Maximum number of iteration reached before convergence. Consider increasing max_iter to improve the fit.\n",
      "  warnings.warn(\n"
     ]
    },
    {
     "data": {
      "text/plain": [
       "0.063"
      ]
     },
     "execution_count": 106,
     "metadata": {},
     "output_type": "execute_result"
    }
   ],
   "source": [
    "from sklearn.linear_model import SGDClassifier\n",
    "\n",
    "clf = SGDClassifier(random_state=0)\n",
    "clf.fit(train_data_inc_pca, train_labels)\n",
    "clf.score(test_data_inc_pca, test_labels)"
   ]
  },
  {
   "cell_type": "code",
   "execution_count": 107,
   "id": "f3b574e4",
   "metadata": {},
   "outputs": [
    {
     "data": {
      "text/plain": [
       "0.06666666666666667"
      ]
     },
     "execution_count": 107,
     "metadata": {},
     "output_type": "execute_result"
    }
   ],
   "source": [
    "from sklearn.dummy import DummyClassifier\n",
    "\n",
    "clf = DummyClassifier(random_state=0)\n",
    "clf.fit(train_data_inc_pca, train_labels)\n",
    "clf.score(test_data_inc_pca, test_labels)"
   ]
  },
  {
   "cell_type": "code",
   "execution_count": 108,
   "id": "231d7526",
   "metadata": {},
   "outputs": [
    {
     "data": {
      "text/plain": [
       "0.07233333333333333"
      ]
     },
     "execution_count": 108,
     "metadata": {},
     "output_type": "execute_result"
    }
   ],
   "source": [
    "from sklearn.ensemble import AdaBoostClassifier\n",
    "\n",
    "clf = AdaBoostClassifier(random_state=0)\n",
    "clf.fit(train_data_inc_pca, train_labels)\n",
    "clf.score(test_data_inc_pca, test_labels)"
   ]
  },
  {
   "cell_type": "code",
   "execution_count": 109,
   "id": "89522baf",
   "metadata": {},
   "outputs": [
    {
     "data": {
      "text/plain": [
       "0.058"
      ]
     },
     "execution_count": 109,
     "metadata": {},
     "output_type": "execute_result"
    }
   ],
   "source": [
    "from sklearn.ensemble import BaggingClassifier\n",
    "\n",
    "clf = BaggingClassifier(random_state=0)\n",
    "clf.fit(train_data_inc_pca, train_labels)\n",
    "clf.score(test_data_inc_pca, test_labels)"
   ]
  },
  {
   "cell_type": "code",
   "execution_count": 110,
   "id": "3823dfae",
   "metadata": {},
   "outputs": [
    {
     "data": {
      "text/plain": [
       "0.06733333333333333"
      ]
     },
     "execution_count": 110,
     "metadata": {},
     "output_type": "execute_result"
    }
   ],
   "source": [
    "from sklearn.ensemble import ExtraTreesClassifier\n",
    "\n",
    "clf = ExtraTreesClassifier(random_state=0)\n",
    "clf.fit(train_data_inc_pca, train_labels)\n",
    "clf.score(test_data_inc_pca, test_labels)"
   ]
  },
  {
   "cell_type": "code",
   "execution_count": 111,
   "id": "4c387968",
   "metadata": {},
   "outputs": [
    {
     "data": {
      "text/plain": [
       "0.063"
      ]
     },
     "execution_count": 111,
     "metadata": {},
     "output_type": "execute_result"
    }
   ],
   "source": [
    "from sklearn.ensemble import RandomForestClassifier\n",
    "\n",
    "clf = RandomForestClassifier(random_state=0)\n",
    "clf.fit(train_data_inc_pca, train_labels)\n",
    "clf.score(test_data_inc_pca, test_labels)"
   ]
  },
  {
   "cell_type": "code",
   "execution_count": 112,
   "id": "4e7c285e",
   "metadata": {},
   "outputs": [
    {
     "data": {
      "text/plain": [
       "0.057666666666666665"
      ]
     },
     "execution_count": 112,
     "metadata": {},
     "output_type": "execute_result"
    }
   ],
   "source": [
    "from sklearn.neighbors import KNeighborsClassifier\n",
    "\n",
    "clf = KNeighborsClassifier()\n",
    "clf.fit(train_data_inc_pca, train_labels)\n",
    "clf.score(test_data_inc_pca, test_labels)"
   ]
  },
  {
   "cell_type": "code",
   "execution_count": 113,
   "id": "64aebfb2",
   "metadata": {},
   "outputs": [
    {
     "data": {
      "text/plain": [
       "0.08366666666666667"
      ]
     },
     "execution_count": 113,
     "metadata": {},
     "output_type": "execute_result"
    }
   ],
   "source": [
    "from sklearn.neural_network import MLPClassifier\n",
    "\n",
    "clf = MLPClassifier(random_state=0)\n",
    "clf.fit(train_data_inc_pca, train_labels)\n",
    "clf.score(test_data_inc_pca, test_labels)"
   ]
  },
  {
   "cell_type": "code",
   "execution_count": 114,
   "id": "d9119750",
   "metadata": {},
   "outputs": [
    {
     "data": {
      "text/plain": [
       "0.056"
      ]
     },
     "execution_count": 114,
     "metadata": {},
     "output_type": "execute_result"
    }
   ],
   "source": [
    "from sklearn.tree import DecisionTreeClassifier\n",
    "\n",
    "clf = DecisionTreeClassifier(random_state=0)\n",
    "clf.fit(train_data_inc_pca, train_labels)\n",
    "clf.score(test_data_inc_pca, test_labels)"
   ]
  },
  {
   "cell_type": "code",
   "execution_count": null,
   "id": "eba38bbf",
   "metadata": {},
   "outputs": [],
   "source": []
  }
 ],
 "metadata": {
  "kernelspec": {
   "display_name": "Python 3 (ipykernel)",
   "language": "python",
   "name": "python3"
  },
  "language_info": {
   "codemirror_mode": {
    "name": "ipython",
    "version": 3
   },
   "file_extension": ".py",
   "mimetype": "text/x-python",
   "name": "python",
   "nbconvert_exporter": "python",
   "pygments_lexer": "ipython3",
   "version": "3.9.12"
  },
  "toc": {
   "base_numbering": 1,
   "nav_menu": {},
   "number_sections": true,
   "sideBar": true,
   "skip_h1_title": false,
   "title_cell": "Table of Contents",
   "title_sidebar": "Contents",
   "toc_cell": false,
   "toc_position": {},
   "toc_section_display": true,
   "toc_window_display": false
  }
 },
 "nbformat": 4,
 "nbformat_minor": 5
}
